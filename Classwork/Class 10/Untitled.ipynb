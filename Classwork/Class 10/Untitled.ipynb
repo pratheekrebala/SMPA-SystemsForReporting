{
 "cells": [
  {
   "cell_type": "code",
   "execution_count": 1,
   "metadata": {
    "collapsed": true
   },
   "outputs": [],
   "source": [
    "import csv"
   ]
  },
  {
   "cell_type": "code",
   "execution_count": 17,
   "metadata": {
    "collapsed": false
   },
   "outputs": [
    {
     "name": "stdout",
     "output_type": "stream",
     "text": [
      "['2011', 'FEMALE', 'HISPANIC', 'IRENE', '11', '77']\n",
      "['2011', 'FEMALE', 'ASIAN AND PACIFIC ISLANDER', 'IRENE', '20', '28']\n",
      "['2011', 'FEMALE', 'ASIAN AND PACIFIC ISLANDER', 'IRENE', '20', '28']\n",
      "['2011', 'FEMALE', 'HISPANIC', 'IRENE', '11', '77']\n",
      "['2011', 'FEMALE', 'ASIAN AND PACIFIC ISLANDER', 'IRENE', '20', '28']\n",
      "['2011', 'FEMALE', 'HISPANIC', 'IRENE', '11', '77']\n",
      "['2011', 'FEMALE', 'ASIAN AND PACIFIC ISLANDER', 'IRENE', '20', '28']\n",
      "['2011', 'FEMALE', 'HISPANIC', 'IRENE', '11', '77']\n",
      "['2012', 'FEMALE', 'ASIAN AND PACI', 'IRENE', '23', '32']\n",
      "['2013', 'FEMALE', 'ASIAN AND PACIFIC ISLANDER', 'Irene', '21', '31']\n",
      "['2014', 'FEMALE', 'ASIAN AND PACIFIC ISLANDER', 'Irene', '16', '34']\n"
     ]
    }
   ],
   "source": [
    "with open('./baby_names_nyc.csv') as f:\n",
    "    csv_data = csv.reader(f)\n",
    "    for row in csv_data:\n",
    "        if row[3].upper() == 'IRENE':\n",
    "            print(row)"
   ]
  },
  {
   "cell_type": "code",
   "execution_count": null,
   "metadata": {
    "collapsed": true
   },
   "outputs": [],
   "source": []
  }
 ],
 "metadata": {
  "kernelspec": {
   "display_name": "Python 2",
   "language": "python",
   "name": "python2"
  },
  "language_info": {
   "codemirror_mode": {
    "name": "ipython",
    "version": 2
   },
   "file_extension": ".py",
   "mimetype": "text/x-python",
   "name": "python",
   "nbconvert_exporter": "python",
   "pygments_lexer": "ipython2",
   "version": "2.7.13"
  }
 },
 "nbformat": 4,
 "nbformat_minor": 1
}
