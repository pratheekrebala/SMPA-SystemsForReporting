{
 "cells": [
  {
   "cell_type": "code",
   "execution_count": 1,
   "metadata": {
    "collapsed": false
   },
   "outputs": [
    {
     "name": "stdout",
     "output_type": "stream",
     "text": [
      "Requirement already satisfied: agate in /usr/local/lib/python3.5/site-packages\n",
      "Requirement already satisfied: Babel>=2.0 in /Users/pratheekrebala/Library/Python/3.5/lib/python/site-packages (from agate)\n",
      "Requirement already satisfied: six>=1.6.1 in /usr/local/lib/python3.5/site-packages (from agate)\n",
      "Requirement already satisfied: parsedatetime>=2.1 in /usr/local/lib/python3.5/site-packages (from agate)\n",
      "Requirement already satisfied: pytimeparse>=1.1.5 in /usr/local/lib/python3.5/site-packages (from agate)\n",
      "Requirement already satisfied: isodate>=0.5.4 in /usr/local/lib/python3.5/site-packages (from agate)\n",
      "Requirement already satisfied: awesome-slugify>=1.6.5 in /usr/local/lib/python3.5/site-packages (from agate)\n",
      "Requirement already satisfied: leather>=0.3.2 in /usr/local/lib/python3.5/site-packages (from agate)\n",
      "Requirement already satisfied: pytz>=0a in /usr/local/lib/python3.5/site-packages (from Babel>=2.0->agate)\n",
      "Requirement already satisfied: future in /usr/local/lib/python3.5/site-packages (from parsedatetime>=2.1->agate)\n",
      "Requirement already satisfied: regex in /usr/local/lib/python3.5/site-packages (from awesome-slugify>=1.6.5->agate)\n",
      "Requirement already satisfied: Unidecode<0.05,>=0.04.14 in /Users/pratheekrebala/Library/Python/3.5/lib/python/site-packages (from awesome-slugify>=1.6.5->agate)\n"
     ]
    }
   ],
   "source": [
    "!pip3 install agate --user"
   ]
  },
  {
   "cell_type": "code",
   "execution_count": 1,
   "metadata": {
    "collapsed": false
   },
   "outputs": [],
   "source": [
    "import agate"
   ]
  },
  {
   "cell_type": "code",
   "execution_count": 3,
   "metadata": {
    "collapsed": false
   },
   "outputs": [
    {
     "name": "stdout",
     "output_type": "stream",
     "text": [
      "| column          | data_type |\n",
      "| --------------- | --------- |\n",
      "| updated_at      | DateTime  |\n",
      "| id              | Date      |\n",
      "| start_date      | DateTime  |\n",
      "| end_date        | DateTime  |\n",
      "| election_type   | Text      |\n",
      "| result_type     | Text      |\n",
      "| special         | Boolean   |\n",
      "| office          | Text      |\n",
      "| district        | Text      |\n",
      "| name_raw        | Text      |\n",
      "| last_name       | Boolean   |\n",
      "| first_name      | Boolean   |\n",
      "| suffix          | Boolean   |\n",
      "| middle_name     | Boolean   |\n",
      "| party           | Text      |\n",
      "| jurisdiction    | Text      |\n",
      "| division        | Text      |\n",
      "| votes           | Number    |\n",
      "| votes_type      | Boolean   |\n",
      "| total_votes     | Boolean   |\n",
      "| winner          | Boolean   |\n",
      "| write_in        | Boolean   |\n",
      "| year            | Number    |\n",
      "| election_day    | Number    |\n",
      "| absentee        | Number    |\n",
      "| second_absentee | Number    |\n",
      "| provisional     | Number    |\n",
      "\n",
      "jurisdiction    county_total\n",
      "Montgomery         1,954,822 ▓░░░░░░░░░░░░░░░░░░░░░░░░░░░░░░░░░░░░░░░░░░░░░░░░░ \n",
      "Baltimore          1,851,809 ▓░░░░░░░░░░░░░░░░░░░░░░░░░░░░░░░░░░░░░░░░░░░░░░    \n",
      "Prince George's    1,501,125 ▓░░░░░░░░░░░░░░░░░░░░░░░░░░░░░░░░░░░░░░            \n",
      "Anne Arundel       1,240,645 ▓░░░░░░░░░░░░░░░░░░░░░░░░░░░░░░░                   \n",
      "Baltimore City       979,608 ▓░░░░░░░░░░░░░░░░░░░░░░░░                          \n",
      "Howard               749,280 ▓░░░░░░░░░░░░░░░░░░░                               \n",
      "Harford              615,680 ▓░░░░░░░░░░░░░░░                                   \n",
      "Frederick            544,177 ▓░░░░░░░░░░░░░░                                    \n",
      "Carroll              466,467 ▓░░░░░░░░░░░░                                      \n",
      "Charles              328,887 ▓░░░░░░░░                                          \n",
      "                             +-----------+------------+------------------------+\n",
      "                             0        500,000     1,000,000            2,000,000\n"
     ]
    }
   ],
   "source": [
    "results = agate.Table.from_csv(\"mdcounty2014.csv\")\n",
    "print(results)\n",
    "row = results.rows[0]\n",
    "row['jurisdiction']\n",
    "by_county = results.group_by('jurisdiction')\n",
    "totals = by_county.aggregate([('county_total', agate.Sum('votes'))])\n",
    "totals = totals.order_by('county_total', reverse=True)\n",
    "totals.limit(10).print_bars('jurisdiction', 'county_total', width=80)"
   ]
  },
  {
   "cell_type": "code",
   "execution_count": 41,
   "metadata": {
    "collapsed": false
   },
   "outputs": [
    {
     "name": "stdout",
     "output_type": "stream",
     "text": [
      "| name_raw            | jurisdiction    | county_total |\n",
      "| ------------------- | --------------- | ------------ |\n",
      "| Peter Franchot      | Prince George's |      187,836 |\n",
      "| Brian E. Frosh      | Prince George's |      185,658 |\n",
      "| Anthony G. Brown    | Prince George's |      184,950 |\n",
      "| Peter Franchot      | Montgomery      |      178,855 |\n",
      "| Brian E. Frosh      | Montgomery      |      175,892 |\n",
      "| Peter Franchot      | Baltimore       |      165,920 |\n",
      "| Anthony G. Brown    | Montgomery      |      163,694 |\n",
      "| Larry Hogan         | Baltimore       |      155,936 |\n",
      "| Brian E. Frosh      | Baltimore       |      135,855 |\n",
      "| Larry Hogan         | Anne Arundel    |      119,195 |\n",
      "| Peter Franchot      | Baltimore City  |      117,634 |\n",
      "| Donna F. Edwards    | Prince George's |      112,224 |\n",
      "| Brian E. Frosh      | Baltimore City  |      112,168 |\n",
      "| Jeffrey N. Pritzker | Baltimore       |      110,399 |\n",
      "| Chris Van Hollen    | Montgomery      |      109,392 |\n",
      "| Anthony G. Brown    | Baltimore City  |      106,213 |\n",
      "| Anthony G. Brown    | Baltimore       |      102,734 |\n",
      "| Larry Hogan         | Montgomery      |       97,312 |\n",
      "| Jeffrey N. Pritzker | Anne Arundel    |       94,026 |\n",
      "| William H. Campbell | Baltimore       |       92,922 |\n",
      "| ...                 | ...             |          ... |\n"
     ]
    }
   ],
   "source": [
    "by_county = results.group_by('name_raw').group_by('jurisdiction')\n",
    "totals = by_county.aggregate([('county_total', agate.Sum('votes'))])\n",
    "totals = totals.order_by('county_total', reverse=True)\n",
    "totals.print_table()"
   ]
  },
  {
   "cell_type": "code",
   "execution_count": null,
   "metadata": {
    "collapsed": true
   },
   "outputs": [],
   "source": []
  }
 ],
 "metadata": {
  "kernelspec": {
   "display_name": "Python 3",
   "language": "python",
   "name": "python3"
  },
  "language_info": {
   "codemirror_mode": {
    "name": "ipython",
    "version": 3
   },
   "file_extension": ".py",
   "mimetype": "text/x-python",
   "name": "python",
   "nbconvert_exporter": "python",
   "pygments_lexer": "ipython3",
   "version": "3.5.1"
  }
 },
 "nbformat": 4,
 "nbformat_minor": 1
}
