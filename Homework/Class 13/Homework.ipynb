{
 "cells": [
  {
   "cell_type": "code",
   "execution_count": 1,
   "metadata": {
    "collapsed": true
   },
   "outputs": [],
   "source": [
    "import agate"
   ]
  },
  {
   "cell_type": "markdown",
   "metadata": {},
   "source": [
    "Fetch File"
   ]
  },
  {
   "cell_type": "code",
   "execution_count": 2,
   "metadata": {
    "collapsed": false
   },
   "outputs": [
    {
     "name": "stdout",
     "output_type": "stream",
     "text": [
      "--2017-03-07 10:13:31--  https://raw.githubusercontent.com/dwillis/smpa3193-exercises/master/county_population.csv\n",
      "Resolving raw.githubusercontent.com... 151.101.32.133\n",
      "Connecting to raw.githubusercontent.com|151.101.32.133|:443... connected.\n",
      "HTTP request sent, awaiting response... 200 OK\n",
      "Length: 188293 (184K) [text/plain]\n",
      "Saving to: 'county_population.csv'\n",
      "\n",
      "county_population.c 100%[===================>] 183.88K  --.-KB/s    in 0.07s   \n",
      "\n",
      "2017-03-07 10:13:31 (2.67 MB/s) - 'county_population.csv' saved [188293/188293]\n",
      "\n"
     ]
    }
   ],
   "source": [
    "!wget https://raw.githubusercontent.com/dwillis/smpa3193-exercises/master/county_population.csv"
   ]
  },
  {
   "cell_type": "markdown",
   "metadata": {},
   "source": [
    "Table Structure"
   ]
  },
  {
   "cell_type": "code",
   "execution_count": 3,
   "metadata": {
    "collapsed": false
   },
   "outputs": [
    {
     "name": "stdout",
     "output_type": "stream",
     "text": [
      "| column        | data_type |\n",
      "| ------------- | --------- |\n",
      "| county        | Text      |\n",
      "| state         | Text      |\n",
      "| estimate_2010 | Number    |\n",
      "| estimate_2011 | Number    |\n",
      "| estimate_2012 | Number    |\n",
      "| estimate_2013 | Number    |\n",
      "| estimate_2014 | Number    |\n",
      "| estimate_2015 | Number    |\n",
      "\n"
     ]
    }
   ],
   "source": [
    "counties = agate.Table.from_csv(\"county_population.csv\")\n",
    "print(counties)"
   ]
  },
  {
   "cell_type": "markdown",
   "metadata": {},
   "source": [
    "Calc Change"
   ]
  },
  {
   "cell_type": "code",
   "execution_count": 4,
   "metadata": {
    "collapsed": true
   },
   "outputs": [],
   "source": [
    "popchange1016 = counties.compute([\n",
    "    ('change', agate.PercentChange('estimate_2010', 'estimate_2015'))\n",
    "])"
   ]
  },
  {
   "cell_type": "code",
   "execution_count": 5,
   "metadata": {
    "collapsed": false
   },
   "outputs": [
    {
     "name": "stdout",
     "output_type": "stream",
     "text": [
      "1.256860592755214050493962678\n"
     ]
    }
   ],
   "source": [
    "print(popchange1016[0]['change'])"
   ]
  },
  {
   "cell_type": "markdown",
   "metadata": {},
   "source": [
    "Rounded Change"
   ]
  },
  {
   "cell_type": "code",
   "execution_count": 6,
   "metadata": {
    "collapsed": true
   },
   "outputs": [],
   "source": [
    "from decimal import Decimal\n",
    "\n",
    "def round_change(row):\n",
    "    return row['change'].quantize(Decimal('0.1'))\n",
    "\n",
    "rounded_change = popchange1016.compute([\n",
    "    ('change_rounded', agate.Formula(agate.Number(), round_change))\n",
    "])"
   ]
  },
  {
   "cell_type": "code",
   "execution_count": 7,
   "metadata": {
    "collapsed": false
   },
   "outputs": [
    {
     "name": "stdout",
     "output_type": "stream",
     "text": [
      "1.3\n"
     ]
    }
   ],
   "source": [
    "print(rounded_change[0]['change_rounded'])"
   ]
  },
  {
   "cell_type": "markdown",
   "metadata": {},
   "source": [
    "Sort by changea"
   ]
  },
  {
   "cell_type": "code",
   "execution_count": 40,
   "metadata": {
    "collapsed": false
   },
   "outputs": [
    {
     "name": "stdout",
     "output_type": "stream",
     "text": [
      "| county              | state          | change_rounded |\n",
      "| ------------------- | -------------- | -------------- |\n",
      "| McKenzie County     | North Dakota   |          100.4 |\n",
      "| Williams County     | North Dakota   |           56.3 |\n",
      "| Loving County       | Texas          |           34.9 |\n",
      "| Mountrail County    | North Dakota   |           33.8 |\n",
      "| Stark County        | North Dakota   |           32.0 |\n",
      "| Dunn County         | North Dakota   |           31.2 |\n",
      "| Sumter County       | Florida        |           26.1 |\n",
      "| Wasatch County      | Utah           |           23.4 |\n",
      "| St. Bernard Parish  | Louisiana      |           23.4 |\n",
      "| Hays County         | Texas          |           23.0 |\n",
      "| Richland County     | Montana        |           22.7 |\n",
      "| Andrews County      | Texas          |           22.0 |\n",
      "| Billings County     | North Dakota   |           21.4 |\n",
      "| Fort Bend County    | Texas          |           21.3 |\n",
      "| Long County         | Georgia        |           20.7 |\n",
      "| Forsyth County      | Georgia        |           20.2 |\n",
      "| Dallas County       | Iowa           |           20.1 |\n",
      "| Osceola County      | Florida        |           20.1 |\n",
      "| Kendall County      | Texas          |           20.0 |\n",
      "| Williamson County   | Texas          |           19.2 |\n",
      "| Loudoun County      | Virginia       |           19.0 |\n",
      "| Sterling County     | Texas          |           18.8 |\n",
      "| St. Johns County    | Florida        |           18.5 |\n",
      "| Comal County        | Texas          |           18.1 |\n",
      "| Divide County       | North Dakota   |           17.9 |\n",
      "| Burke County        | North Dakota   |           17.8 |\n",
      "| Midland County      | Texas          |           17.6 |\n",
      "| Martin County       | Texas          |           17.1 |\n",
      "| Denton County       | Texas          |           17.0 |\n",
      "| Montgomery County   | Texas          |           17.0 |\n",
      "| Lincoln County      | South Dakota   |           17.0 |\n",
      "| Uintah County       | Utah           |           16.9 |\n",
      "| Ector County        | Texas          |           16.3 |\n",
      "| Fredericksburg city | Virginia       |           16.2 |\n",
      "| Morgan County       | Utah           |           16.1 |\n",
      "| Collin County       | Texas          |           15.9 |\n",
      "| Broomfield County   | Colorado       |           15.6 |\n",
      "| Bryan County        | Georgia        |           15.6 |\n",
      "| Columbia County     | Georgia        |           15.3 |\n",
      "| Crane County        | Texas          |           15.3 |\n",
      "| McMullen County     | Texas          |           15.2 |\n",
      "| Rockwall County     | Texas          |           15.1 |\n",
      "| Williamson County   | Tennessee      |           15.0 |\n",
      "| Walton County       | Florida        |           15.0 |\n",
      "| Ward County         | North Dakota   |           14.8 |\n",
      "| Canadian County     | Oklahoma       |           14.6 |\n",
      "| Horry County        | South Carolina |           14.3 |\n",
      "| Greenlee County     | Arizona        |           14.3 |\n",
      "| Travis County       | Texas          |           14.2 |\n",
      "| Cass County         | North Dakota   |           14.1 |\n",
      "| ...                 | ...            |            ... |\n"
     ]
    }
   ],
   "source": [
    "sorted_counties = rounded_change.order_by('change', reverse=True)\n",
    "sorted_counties.select(['county', 'state', 'change_rounded']).print_table(max_rows=50)"
   ]
  },
  {
   "cell_type": "markdown",
   "metadata": {},
   "source": [
    "Show all of the counties in North Dakota, in order of largest change to smallest"
   ]
  },
  {
   "cell_type": "code",
   "execution_count": 13,
   "metadata": {
    "collapsed": false
   },
   "outputs": [
    {
     "name": "stdout",
     "output_type": "stream",
     "text": [
      "| county               | state        | change_rounded |\n",
      "| -------------------- | ------------ | -------------- |\n",
      "| McKenzie County      | North Dakota |          100.4 |\n",
      "| Williams County      | North Dakota |           56.3 |\n",
      "| Mountrail County     | North Dakota |           33.8 |\n",
      "| Stark County         | North Dakota |           32.0 |\n",
      "| Dunn County          | North Dakota |           31.2 |\n",
      "| Billings County      | North Dakota |           21.4 |\n",
      "| Divide County        | North Dakota |           17.9 |\n",
      "| Burke County         | North Dakota |           17.8 |\n",
      "| Ward County          | North Dakota |           14.8 |\n",
      "| Cass County          | North Dakota |           14.1 |\n",
      "| Burleigh County      | North Dakota |           13.8 |\n",
      "| McHenry County       | North Dakota |           10.6 |\n",
      "| Morton County        | North Dakota |            9.9 |\n",
      "| Golden Valley County | North Dakota |            9.6 |\n",
      "| Hettinger County     | North Dakota |            9.3 |\n",
      "| McLean County        | North Dakota |            8.4 |\n",
      "| Grand Forks County   | North Dakota |            5.9 |\n",
      "| Sioux County         | North Dakota |            5.3 |\n",
      "| Slope County         | North Dakota |            5.2 |\n",
      "| Mercer County        | North Dakota |            5.1 |\n",
      "| Bowman County        | North Dakota |            4.8 |\n",
      "| Rolette County       | North Dakota |            4.6 |\n",
      "| Bottineau County     | North Dakota |            4.5 |\n",
      "| Renville County      | North Dakota |            3.8 |\n",
      "| Sargent County       | North Dakota |            1.9 |\n",
      "| Towner County        | North Dakota |            1.7 |\n",
      "| Ramsey County        | North Dakota |            1.6 |\n",
      "| Benson County        | North Dakota |            1.2 |\n",
      "| Oliver County        | North Dakota |            0.5 |\n",
      "| Richland County      | North Dakota |            0.4 |\n",
      "| Adams County         | North Dakota |            0.4 |\n",
      "| Foster County        | North Dakota |            0.4 |\n",
      "| Ransom County        | North Dakota |            0.3 |\n",
      "| Barnes County        | North Dakota |            0.3 |\n",
      "| LaMoure County       | North Dakota |            0.0 |\n",
      "| Grant County         | North Dakota |           -0.0 |\n",
      "| Stutsman County      | North Dakota |           -0.1 |\n",
      "| Sheridan County      | North Dakota |           -0.3 |\n",
      "| Eddy County          | North Dakota |           -0.7 |\n",
      "| Wells County         | North Dakota |           -0.7 |\n",
      "| Kidder County        | North Dakota |           -0.9 |\n",
      "| Pierce County        | North Dakota |           -0.9 |\n",
      "| Steele County        | North Dakota |           -1.0 |\n",
      "| Traill County        | North Dakota |           -1.2 |\n",
      "| McIntosh County      | North Dakota |           -1.3 |\n",
      "| Walsh County         | North Dakota |           -1.7 |\n",
      "| Logan County         | North Dakota |           -3.2 |\n",
      "| Dickey County        | North Dakota |           -3.4 |\n",
      "| Cavalier County      | North Dakota |           -3.9 |\n",
      "| Emmons County        | North Dakota |           -4.0 |\n",
      "| ...                  | ...          |            ... |\n"
     ]
    }
   ],
   "source": [
    "nd_counties = sorted_counties.where(lambda x: x['state'] == 'North Dakota')\n",
    "nd_counties.select(['county', 'state', 'change_rounded']).print_table(max_rows=50)"
   ]
  },
  {
   "cell_type": "markdown",
   "metadata": {},
   "source": [
    "Show the bottom 50 counties nationwide in terms of population change (the smallest change)"
   ]
  },
  {
   "cell_type": "code",
   "execution_count": 27,
   "metadata": {
    "collapsed": false
   },
   "outputs": [
    {
     "name": "stdout",
     "output_type": "stream",
     "text": [
      "| county               | state        | change_rounded |\n",
      "| -------------------- | ------------ | -------------- |\n",
      "| Nelson County        | North Dakota |           -4.9 |\n",
      "| Pembina County       | North Dakota |           -4.2 |\n",
      "| Griggs County        | North Dakota |           -4.0 |\n",
      "| Emmons County        | North Dakota |           -4.0 |\n",
      "| Cavalier County      | North Dakota |           -3.9 |\n",
      "| Dickey County        | North Dakota |           -3.4 |\n",
      "| Logan County         | North Dakota |           -3.2 |\n",
      "| Walsh County         | North Dakota |           -1.7 |\n",
      "| McIntosh County      | North Dakota |           -1.3 |\n",
      "| Traill County        | North Dakota |           -1.2 |\n",
      "| Steele County        | North Dakota |           -1.0 |\n",
      "| Pierce County        | North Dakota |           -0.9 |\n",
      "| Kidder County        | North Dakota |           -0.9 |\n",
      "| Wells County         | North Dakota |           -0.7 |\n",
      "| Eddy County          | North Dakota |           -0.7 |\n",
      "| Sheridan County      | North Dakota |           -0.3 |\n",
      "| Stutsman County      | North Dakota |           -0.1 |\n",
      "| Grant County         | North Dakota |           -0.0 |\n",
      "| LaMoure County       | North Dakota |            0.0 |\n",
      "| Barnes County        | North Dakota |            0.3 |\n",
      "| Ransom County        | North Dakota |            0.3 |\n",
      "| Foster County        | North Dakota |            0.4 |\n",
      "| Adams County         | North Dakota |            0.4 |\n",
      "| Richland County      | North Dakota |            0.4 |\n",
      "| Oliver County        | North Dakota |            0.5 |\n",
      "| Benson County        | North Dakota |            1.2 |\n",
      "| Ramsey County        | North Dakota |            1.6 |\n",
      "| Towner County        | North Dakota |            1.7 |\n",
      "| Sargent County       | North Dakota |            1.9 |\n",
      "| Renville County      | North Dakota |            3.8 |\n",
      "| Bottineau County     | North Dakota |            4.5 |\n",
      "| Rolette County       | North Dakota |            4.6 |\n",
      "| Bowman County        | North Dakota |            4.8 |\n",
      "| Mercer County        | North Dakota |            5.1 |\n",
      "| Slope County         | North Dakota |            5.2 |\n",
      "| Sioux County         | North Dakota |            5.3 |\n",
      "| Grand Forks County   | North Dakota |            5.9 |\n",
      "| McLean County        | North Dakota |            8.4 |\n",
      "| Hettinger County     | North Dakota |            9.3 |\n",
      "| Golden Valley County | North Dakota |            9.6 |\n",
      "| Morton County        | North Dakota |            9.9 |\n",
      "| McHenry County       | North Dakota |           10.6 |\n",
      "| Burleigh County      | North Dakota |           13.8 |\n",
      "| Cass County          | North Dakota |           14.1 |\n",
      "| Ward County          | North Dakota |           14.8 |\n",
      "| Burke County         | North Dakota |           17.8 |\n",
      "| Divide County        | North Dakota |           17.9 |\n",
      "| Billings County      | North Dakota |           21.4 |\n",
      "| Dunn County          | North Dakota |           31.2 |\n",
      "| Stark County         | North Dakota |           32.0 |\n",
      "| ...                  | ...          |            ... |\n"
     ]
    }
   ],
   "source": [
    "nd_counties = nd_counties.order_by('change')\n",
    "nd_counties.select(['county', 'state', 'change_rounded']).print_table(max_rows=50)"
   ]
  },
  {
   "cell_type": "markdown",
   "metadata": {},
   "source": [
    "Show the top 50 counties sorted by 2015 estimated population, with the largest population first"
   ]
  },
  {
   "cell_type": "code",
   "execution_count": 41,
   "metadata": {
    "collapsed": false
   },
   "outputs": [
    {
     "name": "stdout",
     "output_type": "stream",
     "text": [
      "| county               | state          | change_rounded | estimate_2015 |\n",
      "| -------------------- | -------------- | -------------- | ------------- |\n",
      "| Los Angeles County   | California     |            3.5 |    10,170,292 |\n",
      "| Cook County          | Illinois       |            0.7 |     5,238,216 |\n",
      "| Harris County        | Texas          |           10.5 |     4,538,028 |\n",
      "| Maricopa County      | Arizona        |            8.9 |     4,167,947 |\n",
      "| San Diego County     | California     |            6.3 |     3,299,521 |\n",
      "| Orange County        | California     |            5.0 |     3,169,776 |\n",
      "| Miami-Dade County    | Florida        |            7.4 |     2,693,117 |\n",
      "| Kings County         | New York       |            5.0 |     2,636,735 |\n",
      "| Dallas County        | Texas          |            7.6 |     2,553,385 |\n",
      "| Riverside County     | California     |            7.2 |     2,361,026 |\n",
      "| Queens County        | New York       |            4.6 |     2,339,150 |\n",
      "| San Bernardino Co... | California     |            4.2 |     2,128,133 |\n",
      "| King County          | Washington     |            9.3 |     2,117,125 |\n",
      "| Clark County         | Nevada         |            8.3 |     2,114,801 |\n",
      "| Tarrant County       | Texas          |            9.1 |     1,982,498 |\n",
      "| Santa Clara County   | California     |            7.3 |     1,918,044 |\n",
      "| Bexar County         | Texas          |           10.1 |     1,897,753 |\n",
      "| Broward County       | Florida        |            8.2 |     1,896,425 |\n",
      "| Wayne County         | Michigan       |           -3.1 |     1,759,335 |\n",
      "| New York County      | New York       |            3.5 |     1,644,518 |\n",
      "| Alameda County       | California     |            8.2 |     1,638,215 |\n",
      "| Middlesex County     | Massachusetts  |            5.2 |     1,585,139 |\n",
      "| Philadelphia County  | Pennsylvania   |            2.6 |     1,567,442 |\n",
      "| Suffolk County       | New York       |            0.4 |     1,501,587 |\n",
      "| Sacramento County    | California     |            5.6 |     1,501,335 |\n",
      "| Bronx County         | New York       |            4.8 |     1,455,444 |\n",
      "| Palm Beach County    | Florida        |            7.4 |     1,422,789 |\n",
      "| Nassau County        | New York       |            1.5 |     1,361,350 |\n",
      "| Hillsborough County  | Florida        |            9.3 |     1,349,050 |\n",
      "| Orange County        | Florida        |           12.1 |     1,288,126 |\n",
      "| Cuyahoga County      | Ohio           |           -1.7 |     1,255,921 |\n",
      "| Franklin County      | Ohio           |            7.3 |     1,251,722 |\n",
      "| Oakland County       | Michigan       |            3.3 |     1,242,304 |\n",
      "| Allegheny County     | Pennsylvania   |            0.5 |     1,230,459 |\n",
      "| Hennepin County      | Minnesota      |            6.0 |     1,223,149 |\n",
      "| Travis County        | Texas          |           14.2 |     1,176,558 |\n",
      "| Fairfax County       | Virginia       |            5.1 |     1,142,234 |\n",
      "| Contra Costa County  | California     |            7.0 |     1,126,745 |\n",
      "| Salt Lake County     | Utah           |            7.2 |     1,107,314 |\n",
      "| Montgomery County    | Maryland       |            6.5 |     1,040,116 |\n",
      "| Mecklenburg County   | North Carolina |           12.0 |     1,034,070 |\n",
      "| Wake County          | North Carolina |           12.9 |     1,024,198 |\n",
      "| Fulton County        | Georgia        |            9.1 |     1,010,562 |\n",
      "| Pima County          | Arizona        |            2.9 |     1,010,025 |\n",
      "| St. Louis County     | Missouri       |            0.5 |     1,003,362 |\n",
      "| Honolulu County      | Hawaii         |            4.4 |       998,714 |\n",
      "| Westchester County   | New York       |            2.7 |       976,396 |\n",
      "| Fresno County        | California     |            4.5 |       974,861 |\n",
      "| Milwaukee County     | Wisconsin      |            1.0 |       957,735 |\n",
      "| Pinellas County      | Florida        |            3.6 |       949,827 |\n",
      "| ...                  | ...            |            ... |           ... |\n"
     ]
    }
   ],
   "source": [
    "nd_counties = rounded_change.order_by('estimate_2015', reverse=True)\n",
    "nd_counties.select(['county', 'state', 'change_rounded', 'estimate_2015']).print_table(max_rows=50)"
   ]
  },
  {
   "cell_type": "markdown",
   "metadata": {},
   "source": [
    "Calculate an average change for all states and show the state and average in descending order"
   ]
  },
  {
   "cell_type": "code",
   "execution_count": 37,
   "metadata": {
    "collapsed": false
   },
   "outputs": [
    {
     "name": "stdout",
     "output_type": "stream",
     "text": [
      "| state                | avg_change |\n",
      "| -------------------- | ---------- |\n",
      "| District of Columbia |    11.089… |\n",
      "| North Dakota         |     7.788… |\n",
      "| Delaware             |     6.248… |\n",
      "| Utah                 |     4.946… |\n",
      "| Florida              |     4.470… |\n",
      "| Hawaii               |     4.455… |\n",
      "| Washington           |     3.074… |\n",
      "| Arizona              |     2.732… |\n",
      "| Massachusetts        |     2.636… |\n",
      "| Texas                |     2.588… |\n",
      "| Montana              |     2.245… |\n",
      "| Wyoming              |     2.178… |\n",
      "| Colorado             |     1.933… |\n",
      "| Maryland             |     1.801… |\n",
      "| California           |     1.758… |\n",
      "| Alaska               |     1.600… |\n",
      "| Oregon               |     1.565… |\n",
      "| Virginia             |     1.374… |\n",
      "| South Dakota         |     1.291… |\n",
      "| Tennessee            |     1.281… |\n",
      "| South Carolina       |     1.267… |\n",
      "| North Carolina       |     1.263… |\n",
      "| Oklahoma             |     1.031… |\n",
      "| New Jersey           |     0.687… |\n",
      "| Nevada               |     0.669… |\n",
      "| Georgia              |     0.654… |\n",
      "| Louisiana            |     0.213… |\n",
      "| Idaho                |     0.205… |\n",
      "| Wisconsin            |     0.028… |\n",
      "| Indiana              |     0.022… |\n",
      "| Minnesota            |    -0.044… |\n",
      "| New Hampshire        |    -0.091… |\n",
      "| Kentucky             |    -0.192… |\n",
      "| Ohio                 |    -0.495… |\n",
      "| Rhode Island         |    -0.521… |\n",
      "| Vermont              |    -0.564… |\n",
      "| Connecticut          |    -0.648… |\n",
      "| New York             |    -0.699… |\n",
      "| Alabama              |    -0.700… |\n",
      "| Pennsylvania         |    -0.722… |\n",
      "| Missouri             |    -0.811… |\n",
      "| Iowa                 |    -0.815… |\n",
      "| Maine                |    -0.913… |\n",
      "| Michigan             |    -0.939… |\n",
      "| Nebraska             |    -1.300… |\n",
      "| West Virginia        |    -1.509… |\n",
      "| Mississippi          |    -1.525… |\n",
      "| Kansas               |    -1.599… |\n",
      "| Arkansas             |    -1.814… |\n",
      "| New Mexico           |    -2.106… |\n",
      "| ...                  |        ... |\n"
     ]
    }
   ],
   "source": [
    "state_agg = rounded_change.group_by('state').aggregate([\n",
    "    ('avg_change', agate.Mean('change'))\n",
    "]).order_by('avg_change', reverse=True)\n",
    "state_agg.select(['state','avg_change']).print_table(max_rows=50)"
   ]
  }
 ],
 "metadata": {
  "kernelspec": {
   "display_name": "Python 3",
   "language": "python",
   "name": "python3"
  },
  "language_info": {
   "codemirror_mode": {
    "name": "ipython",
    "version": 3
   },
   "file_extension": ".py",
   "mimetype": "text/x-python",
   "name": "python",
   "nbconvert_exporter": "python",
   "pygments_lexer": "ipython3",
   "version": "3.5.1"
  }
 },
 "nbformat": 4,
 "nbformat_minor": 1
}
