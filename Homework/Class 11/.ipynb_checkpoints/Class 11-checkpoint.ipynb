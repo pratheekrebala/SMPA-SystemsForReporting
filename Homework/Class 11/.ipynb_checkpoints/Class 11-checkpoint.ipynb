{
 "cells": [
  {
   "cell_type": "markdown",
   "metadata": {},
   "source": [
    "#### Fetch data"
   ]
  },
  {
   "cell_type": "code",
   "execution_count": 1,
   "metadata": {
    "collapsed": false
   },
   "outputs": [
    {
     "name": "stdout",
     "output_type": "stream",
     "text": [
      "--2017-02-28 08:56:07--  https://raw.githubusercontent.com/dwillis/smpa3193-exercises/master/arrest.csv\n",
      "Resolving raw.githubusercontent.com... 151.101.32.133\n",
      "Connecting to raw.githubusercontent.com|151.101.32.133|:443... connected.\n",
      "HTTP request sent, awaiting response... 200 OK\n",
      "Length: 1204206 (1.1M) [text/plain]\n",
      "Saving to: 'arrest.csv'\n",
      "\n",
      "arrest.csv          100%[===================>]   1.15M  3.43MB/s    in 0.3s    \n",
      "\n",
      "2017-02-28 08:56:08 (3.43 MB/s) - 'arrest.csv' saved [1204206/1204206]\n",
      "\n"
     ]
    }
   ],
   "source": [
    "!wget https://raw.githubusercontent.com/dwillis/smpa3193-exercises/master/arrest.csv"
   ]
  },
  {
   "cell_type": "markdown",
   "metadata": {},
   "source": [
    "#### Read the data"
   ]
  },
  {
   "cell_type": "code",
   "execution_count": 30,
   "metadata": {
    "collapsed": false
   },
   "outputs": [],
   "source": [
    "import agate\n",
    "import agatestats\n",
    "from Levenshtein import distance\n",
    "\n",
    "#agatestats.patch()\n",
    "results = agate.Table.from_csv(\"arrest.csv\")"
   ]
  },
  {
   "cell_type": "markdown",
   "metadata": {},
   "source": [
    "#### Print Structure"
   ]
  },
  {
   "cell_type": "code",
   "execution_count": 5,
   "metadata": {
    "collapsed": false
   },
   "outputs": [
    {
     "name": "stdout",
     "output_type": "stream",
     "text": [
      "| column         | data_type |\n",
      "| -------------- | --------- |\n",
      "| LName          | Text      |\n",
      "| FName          | Text      |\n",
      "| MName          | Text      |\n",
      "| Age            | Number    |\n",
      "| DateArr        | Date      |\n",
      "| Charge         | Text      |\n",
      "| Charge Descrip | Text      |\n",
      "| Address        | Text      |\n",
      "\n"
     ]
    }
   ],
   "source": [
    "print(results)"
   ]
  },
  {
   "cell_type": "markdown",
   "metadata": {},
   "source": [
    "#### Print Head of Table"
   ]
  },
  {
   "cell_type": "code",
   "execution_count": 6,
   "metadata": {
    "collapsed": false
   },
   "outputs": [
    {
     "name": "stdout",
     "output_type": "stream",
     "text": [
      "| LName                | FName                | MName                | Age |    DateArr | Charge               | ... |\n",
      "| -------------------- | -------------------- | -------------------- | --- | ---------- | -------------------- | --- |\n",
      "| ABAGOBEZ         ... | MARONE               | BERHANE          ... |  35 | 2016-02-09 | 18.2-96(2)       ... | ... |\n",
      "| ABARCA SANTOS    ... | ROBERTO              | CARLOS           ... |  33 | 2016-02-08 | 82-1-6[46.2-300] ... | ... |\n",
      "| ABAWI            ... | KAIS                 |                      |  24 | 2016-02-02 | 82-1-6[46.2-300] ... | ... |\n",
      "| ABAWI            ... | KAIS                 |                      |  24 | 2016-02-02 | 82-1-6[46.2-300] ... | ... |\n",
      "| ABBAS            ... | ALI                  | BABUR GHULAM     ... |  29 | 2015-11-22 | 82-1-6[46.2-300] ... | ... |\n",
      "| ...                  | ...                  | ...                  | ... |        ... | ...                  | ... |\n",
      "None\n"
     ]
    }
   ],
   "source": [
    "print(results.print_table(5))"
   ]
  },
  {
   "cell_type": "markdown",
   "metadata": {},
   "source": [
    "#### Find data with nulls in Charge Descrip"
   ]
  },
  {
   "cell_type": "code",
   "execution_count": 7,
   "metadata": {
    "collapsed": false
   },
   "outputs": [
    {
     "name": "stdout",
     "output_type": "stream",
     "text": [
      "| LName                | FName                | MName                | Age |    DateArr | Charge | ... |\n",
      "| -------------------- | -------------------- | -------------------- | --- | ---------- | ------ | --- |\n",
      "| CAMPANARO        ... | WILLIAM              | ARNETT           ... |  37 | 2016-02-20 |        | ... |\n",
      "| DUODU            ... | MAXWELL              | N                ... |  41 | 2016-02-04 |        | ... |\n",
      "| FACKLAM          ... | RYAN                 | JOSEPH           ... |  26 | 2015-12-14 |        | ... |\n",
      "| GOMEZ            ... | TULIO                | A                ... |  34 | 2015-12-22 |        | ... |\n",
      "| KANADE           ... | SAKET                |                      |  18 | 2016-01-19 |        | ... |\n",
      "| KARGBO           ... | SANTIGIE             |                      |  22 | 2016-02-19 |        | ... |\n",
      "| KING             ... | CARLTON              | R                ... |  49 | 2015-11-19 |        | ... |\n",
      "| MATTOX           ... | MARTY                |                      |  32 | 2016-02-01 |        | ... |\n",
      "| REAVES           ... | BRITTANY             | COLLETE          ... |  28 | 2016-02-06 |        | ... |\n",
      "| SELNICK          ... | ALEXANDER            | RENATO           ... |  27 | 2016-01-21 |        | ... |\n",
      "| SMITH            ... | ROBERT               | SYPHAX           ... |  53 | 2016-02-02 |        | ... |\n",
      "| WARREN           ... | BRENT                | BROOKS           ... |  23 | 2016-02-17 |        | ... |\n",
      "| WRIGHT           ... | JOSEPH               | A                ... |  43 | 2015-10-08 |        | ... |\n"
     ]
    }
   ],
   "source": [
    "smelly_data = results.where(lambda x: x['Charge Descrip'] is None)\n",
    "smelly_data.print_table()"
   ]
  },
  {
   "cell_type": "markdown",
   "metadata": {},
   "source": [
    "#### Cleanup names"
   ]
  },
  {
   "cell_type": "code",
   "execution_count": 8,
   "metadata": {
    "collapsed": false
   },
   "outputs": [],
   "source": [
    "results = results.compute([\n",
    "    ('LName', agate.Formula(agate.Text(), lambda row: row['LName'].strip() if row['LName'] else None, results.columns['LName'])),\n",
    "    ('MName', agate.Formula(agate.Text(), lambda row: row['MName'].strip() if row['MName'] else None, results.columns['MName'])),\n",
    "    ('FName', agate.Formula(agate.Text(), lambda row: row['FName'].strip() if row['FName'] else None, results.columns['FName']))\n",
    "], replace=True)"
   ]
  },
  {
   "cell_type": "markdown",
   "metadata": {},
   "source": [
    "#### Compute Age distribution"
   ]
  },
  {
   "cell_type": "code",
   "execution_count": 9,
   "metadata": {
    "collapsed": false
   },
   "outputs": [
    {
     "name": "stdout",
     "output_type": "stream",
     "text": [
      "| Age | Count |\n",
      "| --- | ----- |\n",
      "|  22 |   177 |\n",
      "|  27 |   169 |\n",
      "|  19 |   167 |\n",
      "|  21 |   161 |\n",
      "|  25 |   160 |\n",
      "|  23 |   159 |\n",
      "|  24 |   158 |\n",
      "|  26 |   145 |\n",
      "|  20 |   144 |\n",
      "|  30 |   137 |\n",
      "|  18 |   137 |\n",
      "|  31 |   124 |\n",
      "|  32 |   121 |\n",
      "|  28 |   119 |\n",
      "|  29 |   111 |\n",
      "|  33 |    95 |\n",
      "|  35 |    88 |\n",
      "|  36 |    75 |\n",
      "|  37 |    72 |\n",
      "|  34 |    71 |\n",
      "| ... |   ... |\n"
     ]
    }
   ],
   "source": [
    "age_distribution = results.pivot('Age').order_by('Count', True)\n",
    "age_distribution.print_table()"
   ]
  },
  {
   "cell_type": "markdown",
   "metadata": {},
   "source": [
    "#### Histogram of Age Distribution"
   ]
  },
  {
   "cell_type": "code",
   "execution_count": 10,
   "metadata": {
    "collapsed": false
   },
   "outputs": [
    {
     "name": "stdout",
     "output_type": "stream",
     "text": [
      "Age Count\n",
      "22    177 ▓░░░░░░░░░░░░░░░░░░░░░░░░░░░░░░░░░░░░░░░░░░░░░░░░░░░░░░░░░░░░░░░░░░░░░░░░░░░░░░░░░░░░░░░░░░░░░░░░             \n",
      "27    169 ▓░░░░░░░░░░░░░░░░░░░░░░░░░░░░░░░░░░░░░░░░░░░░░░░░░░░░░░░░░░░░░░░░░░░░░░░░░░░░░░░░░░░░░░░░░░░░                 \n",
      "19    167 ▓░░░░░░░░░░░░░░░░░░░░░░░░░░░░░░░░░░░░░░░░░░░░░░░░░░░░░░░░░░░░░░░░░░░░░░░░░░░░░░░░░░░░░░░░░░░                  \n",
      "21    161 ▓░░░░░░░░░░░░░░░░░░░░░░░░░░░░░░░░░░░░░░░░░░░░░░░░░░░░░░░░░░░░░░░░░░░░░░░░░░░░░░░░░░░░░░░░                     \n",
      "25    160 ▓░░░░░░░░░░░░░░░░░░░░░░░░░░░░░░░░░░░░░░░░░░░░░░░░░░░░░░░░░░░░░░░░░░░░░░░░░░░░░░░░░░░░░░░                      \n",
      "23    159 ▓░░░░░░░░░░░░░░░░░░░░░░░░░░░░░░░░░░░░░░░░░░░░░░░░░░░░░░░░░░░░░░░░░░░░░░░░░░░░░░░░░░░░░░░                      \n",
      "24    158 ▓░░░░░░░░░░░░░░░░░░░░░░░░░░░░░░░░░░░░░░░░░░░░░░░░░░░░░░░░░░░░░░░░░░░░░░░░░░░░░░░░░░░░░░                       \n",
      "26    145 ▓░░░░░░░░░░░░░░░░░░░░░░░░░░░░░░░░░░░░░░░░░░░░░░░░░░░░░░░░░░░░░░░░░░░░░░░░░░░░░░░                              \n",
      "20    144 ▓░░░░░░░░░░░░░░░░░░░░░░░░░░░░░░░░░░░░░░░░░░░░░░░░░░░░░░░░░░░░░░░░░░░░░░░░░░░░░░                               \n",
      "30    137 ▓░░░░░░░░░░░░░░░░░░░░░░░░░░░░░░░░░░░░░░░░░░░░░░░░░░░░░░░░░░░░░░░░░░░░░░░░░░░                                  \n",
      "18    137 ▓░░░░░░░░░░░░░░░░░░░░░░░░░░░░░░░░░░░░░░░░░░░░░░░░░░░░░░░░░░░░░░░░░░░░░░░░░░░                                  \n",
      "31    124 ▓░░░░░░░░░░░░░░░░░░░░░░░░░░░░░░░░░░░░░░░░░░░░░░░░░░░░░░░░░░░░░░░░░░░░                                         \n",
      "32    121 ▓░░░░░░░░░░░░░░░░░░░░░░░░░░░░░░░░░░░░░░░░░░░░░░░░░░░░░░░░░░░░░░░░░░                                           \n",
      "28    119 ▓░░░░░░░░░░░░░░░░░░░░░░░░░░░░░░░░░░░░░░░░░░░░░░░░░░░░░░░░░░░░░░░░░                                            \n",
      "29    111 ▓░░░░░░░░░░░░░░░░░░░░░░░░░░░░░░░░░░░░░░░░░░░░░░░░░░░░░░░░░░░░                                                 \n",
      "33     95 ▓░░░░░░░░░░░░░░░░░░░░░░░░░░░░░░░░░░░░░░░░░░░░░░░░░░░░                                                         \n",
      "35     88 ▓░░░░░░░░░░░░░░░░░░░░░░░░░░░░░░░░░░░░░░░░░░░░░░░░                                                             \n",
      "36     75 ▓░░░░░░░░░░░░░░░░░░░░░░░░░░░░░░░░░░░░░░░░░                                                                    \n",
      "37     72 ▓░░░░░░░░░░░░░░░░░░░░░░░░░░░░░░░░░░░░░░░                                                                      \n",
      "34     71 ▓░░░░░░░░░░░░░░░░░░░░░░░░░░░░░░░░░░░░░░░                                                                      \n",
      "39     67 ▓░░░░░░░░░░░░░░░░░░░░░░░░░░░░░░░░░░░░░                                                                        \n",
      "38     64 ▓░░░░░░░░░░░░░░░░░░░░░░░░░░░░░░░░░░░                                                                          \n",
      "44     63 ▓░░░░░░░░░░░░░░░░░░░░░░░░░░░░░░░░░░                                                                           \n",
      "42     57 ▓░░░░░░░░░░░░░░░░░░░░░░░░░░░░░░░                                                                              \n",
      "41     52 ▓░░░░░░░░░░░░░░░░░░░░░░░░░░░░                                                                                 \n",
      "45     48 ▓░░░░░░░░░░░░░░░░░░░░░░░░░░                                                                                   \n",
      "47     46 ▓░░░░░░░░░░░░░░░░░░░░░░░░░                                                                                    \n",
      "43     43 ▓░░░░░░░░░░░░░░░░░░░░░░░                                                                                      \n",
      "50     42 ▓░░░░░░░░░░░░░░░░░░░░░░░                                                                                      \n",
      "48     40 ▓░░░░░░░░░░░░░░░░░░░░░░                                                                                       \n",
      "40     36 ▓░░░░░░░░░░░░░░░░░░░░                                                                                         \n",
      "54     33 ▓░░░░░░░░░░░░░░░░░░                                                                                           \n",
      "46     31 ▓░░░░░░░░░░░░░░░░░                                                                                            \n",
      "51     29 ▓░░░░░░░░░░░░░░░░                                                                                             \n",
      "55     29 ▓░░░░░░░░░░░░░░░░                                                                                             \n",
      "52     28 ▓░░░░░░░░░░░░░░░                                                                                              \n",
      "49     27 ▓░░░░░░░░░░░░░░░                                                                                              \n",
      "53     26 ▓░░░░░░░░░░░░░░                                                                                               \n",
      "57     24 ▓░░░░░░░░░░░░░                                                                                                \n",
      "56     23 ▓░░░░░░░░░░░░░                                                                                                \n",
      "59     18 ▓░░░░░░░░░░                                                                                                   \n",
      "60     16 ▓░░░░░░░░░                                                                                                    \n",
      "58     14 ▓░░░░░░░░                                                                                                     \n",
      "62     14 ▓░░░░░░░░                                                                                                     \n",
      "63      7 ▓░░░░                                                                                                         \n",
      "65      5 ▓░░░                                                                                                          \n",
      "61      5 ▓░░░                                                                                                          \n",
      "67      5 ▓░░░                                                                                                          \n",
      "69      5 ▓░░░                                                                                                          \n",
      "64      4 ▓░░                                                                                                           \n",
      "78      4 ▓░░                                                                                                           \n",
      "71      3 ▓░░                                                                                                           \n",
      "70      3 ▓░░                                                                                                           \n",
      "76      3 ▓░░                                                                                                           \n",
      "66      2 ▓░                                                                                                            \n",
      "72      2 ▓░                                                                                                            \n",
      "83      1 ▓░                                                                                                            \n",
      "73      1 ▓░                                                                                                            \n",
      "88      1 ▓░                                                                                                            \n",
      "86      1 ▓░                                                                                                            \n",
      "          +--------------------------+--------------------------+---------------------------+--------------------------+\n",
      "          0                         50                         100                         150                       200\n"
     ]
    }
   ],
   "source": [
    "age_distribution.print_bars('Age', 'Count')"
   ]
  },
  {
   "cell_type": "markdown",
   "metadata": {},
   "source": [
    "#### Identify Outliers"
   ]
  },
  {
   "cell_type": "code",
   "execution_count": 27,
   "metadata": {
    "collapsed": false
   },
   "outputs": [
    {
     "name": "stdout",
     "output_type": "stream",
     "text": [
      "| LName         | FName   | MName        | Age |    DateArr | Charge               | ... |\n",
      "| ------------- | ------- | ------------ | --- | ---------- | -------------------- | --- |\n",
      "| ABAGOBEZ      | MARONE  | BERHANE      |  35 | 2016-02-09 | 18.2-96(2)       ... | ... |\n",
      "| ABARCA SANTOS | ROBERTO | CARLOS       |  33 | 2016-02-08 | 82-1-6[46.2-300] ... | ... |\n",
      "| ABAWI         | KAIS    |              |  24 | 2016-02-02 | 82-1-6[46.2-300] ... | ... |\n",
      "| ABAWI         | KAIS    |              |  24 | 2016-02-02 | 82-1-6[46.2-300] ... | ... |\n",
      "| ABBAS         | ALI     | BABUR GHULAM |  29 | 2015-11-22 | 82-1-6[46.2-300] ... | ... |\n",
      "| ABBOTT        | RAYNARD | DOUGLAS      |  19 | 2016-02-10 | 18.2-95(ii)      ... | ... |\n",
      "| ABBOTT        | RAYNARD | DOUGLAS      |  19 | 2016-02-10 | 18.2-94          ... | ... |\n",
      "| ABBOTT        | RAYNARD | DOUGLAS      |  19 | 2016-02-10 | 18.2-186.3(A)    ... | ... |\n",
      "| ABDALLAH      | RAMI    | OSAMA        |  21 | 2016-02-25 | 18.2-250.1       ... | ... |\n",
      "| ABDEL SAMAD   | JABER   | ABDELKADER   |  63 | 2016-02-05 | 82-1-6[46.2-301] ... | ... |\n",
      "| ABDELLA       | EKRAM   | BEYAN        |  31 | 2016-02-13 | 82-1-6[46.2-301] ... | ... |\n",
      "| ABDELLA       | MEDINA  | SULTAN       |  25 | 2016-02-06 | 82-1-6[46.2-300] ... | ... |\n",
      "| ABDELLATIF    | MANAL   |              |  43 | 2015-09-21 | 82-1-6[46.2-862] ... | ... |\n",
      "| ABDELRASOUL   | RAGAI   | KHALIL       |  19 | 2016-02-27 | 18.2-95(ii)      ... | ... |\n",
      "| ABDELRASOUL   | RAGAI   | KHALIL       |  19 | 2016-02-27 | 18.2-95(ii)      ... | ... |\n",
      "| ABDELRASOUL   | RAGAI   | KHALIL       |  19 | 2016-02-27 | 82-1-6[46.2-301] ... | ... |\n",
      "| ABDI          | MOHAMED | JAMA         |  34 | 2016-02-28 | 5/1/2001             | ... |\n",
      "| ABDI          | MOHAMED | JAMA         |  34 | 2016-02-28 | 18.2-119         ... | ... |\n",
      "| ABDULGADER    | RUDDAD  | M            |  25 | 2015-11-18 | 82-1-6[46.2-300] ... | ... |\n",
      "| ABDULKADIR    | MOHAMED | FAKHRUDIN    |  22 | 2016-02-15 | 19.2-128(B)      ... | ... |\n",
      "| ...           | ...     | ...          | ... |        ... | ...                  | ... |\n"
     ]
    }
   ],
   "source": [
    "results.stdev_outliers('Age', deviations=3, reject=False).print_table()"
   ]
  },
  {
   "cell_type": "markdown",
   "metadata": {},
   "source": [
    "#### Mean age by Charge Description"
   ]
  },
  {
   "cell_type": "code",
   "execution_count": 86,
   "metadata": {
    "collapsed": false
   },
   "outputs": [
    {
     "name": "stdout",
     "output_type": "stream",
     "text": [
      "| Charge               | Mean Age |\n",
      "| -------------------- | -------- |\n",
      "| 18.2-96(2)       ... |  31.531… |\n",
      "| 82-1-6[46.2-300] ... |  31.517… |\n",
      "| 18.2-95(ii)      ... |  31.817… |\n",
      "| 18.2-94          ... |  31.889… |\n",
      "| 18.2-186.3(A)    ... |  29.857… |\n",
      "| 18.2-250.1       ... |  25.318… |\n",
      "| 82-1-6[46.2-301] ... |  33.113… |\n",
      "| 82-1-6[46.2-862] ... |  31.268… |\n",
      "| 5/1/2001             |  34.119… |\n",
      "| 18.2-119         ... |  34.500… |\n",
      "| 19.2-128(B)      ... |  28.250… |\n",
      "| 18.2-186.3(B1)   ... |  22.900… |\n",
      "| 18.2-250(A)(a)   ... |  31.127… |\n",
      "| 18.2-248.1(a)(2) ... |  25.700… |\n",
      "| 54.1-3466        ... |  33.364… |\n",
      "| 46.2-707         ... |  35.917… |\n",
      "| 18.2-57.2(A)     ... |  35.979… |\n",
      "| 18.2-164(A)      ... |  34.750… |\n",
      "| 46.2-300         ... |  32.704… |\n",
      "| 46.2-894         ... |  37.833… |\n",
      "| ...                  |      ... |\n"
     ]
    }
   ],
   "source": [
    "charges = results.group_by('Charge')\n",
    "charges.aggregate([('Mean Age', agate.Mean('Age'))]).print_table()"
   ]
  },
  {
   "cell_type": "markdown",
   "metadata": {},
   "source": [
    "#### Extract City from Address"
   ]
  },
  {
   "cell_type": "code",
   "execution_count": 61,
   "metadata": {
    "collapsed": false
   },
   "outputs": [],
   "source": [
    "results = results.compute([\n",
    "        ('city', agate.Formula(agate.Text(), lambda x: x['Address'].split(',')[-2].strip()))\n",
    "    ],  replace=True)"
   ]
  },
  {
   "cell_type": "markdown",
   "metadata": {},
   "source": [
    "#### Number of arrests in Alexandria"
   ]
  },
  {
   "cell_type": "code",
   "execution_count": 81,
   "metadata": {
    "collapsed": false
   },
   "outputs": [
    {
     "data": {
      "text/plain": [
       "655"
      ]
     },
     "execution_count": 81,
     "metadata": {},
     "output_type": "execute_result"
    }
   ],
   "source": [
    "alexandria_begin = results.where(lambda x: x['city'].startswith('ALEX') if x['city'] else False)\n",
    "len(alexandria_begin)"
   ]
  },
  {
   "cell_type": "markdown",
   "metadata": {},
   "source": [
    "#### Try edit distance\n",
    "NOTE: DOESN'T WORK."
   ]
  },
  {
   "cell_type": "code",
   "execution_count": 88,
   "metadata": {
    "collapsed": false
   },
   "outputs": [
    {
     "data": {
      "text/plain": [
       "63"
      ]
     },
     "execution_count": 88,
     "metadata": {},
     "output_type": "execute_result"
    }
   ],
   "source": [
    "search_alexandria = results.where(lambda x: distance(x['city'], 'ALEX') <= 3 if x['city'] else False)\n",
    "len(search_alexandria)"
   ]
  }
 ],
 "metadata": {
  "kernelspec": {
   "display_name": "Python 3",
   "language": "python",
   "name": "python3"
  },
  "language_info": {
   "codemirror_mode": {
    "name": "ipython",
    "version": 3
   },
   "file_extension": ".py",
   "mimetype": "text/x-python",
   "name": "python",
   "nbconvert_exporter": "python",
   "pygments_lexer": "ipython3",
   "version": "3.5.1"
  }
 },
 "nbformat": 4,
 "nbformat_minor": 1
}
